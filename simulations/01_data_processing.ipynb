{
 "cells": [
  {
   "cell_type": "code",
   "execution_count": 11,
   "metadata": {},
   "outputs": [],
   "source": [
    "import os\n",
    "import sys\n",
    "sys.path.append(os.path.abspath(os.path.join(os.getcwd(), '..')))"
   ]
  },
  {
   "cell_type": "markdown",
   "metadata": {},
   "source": [
    "##### This example shows how to compose the below simple data prcessing system using the core 'primitives' of the library\n",
    "\n",
    "![Data Processing System Diagram](assets/diagram.png)"
   ]
  },
  {
   "cell_type": "code",
   "execution_count": 12,
   "metadata": {},
   "outputs": [],
   "source": [
    "from core import (Dimension, Space, Point, Flow, NonlinearTransform, Block, \n",
    "                  CompositeBlock, CombinerBlock, OutputTypeBlock, Pipeline)"
   ]
  },
  {
   "cell_type": "markdown",
   "metadata": {},
   "source": [
    "The script defines input and output dimensions using the `Dimension` class, and combines them into `Space` objects:"
   ]
  },
  {
   "cell_type": "code",
   "execution_count": 13,
   "metadata": {},
   "outputs": [],
   "source": [
    "# Dimensions\n",
    "dim_u1 = Dimension(name='u1')\n",
    "dim_u2 = Dimension(name='u2', data_type=bool)\n",
    "# Combined Input Space\n",
    "space_combined_input = Space(name='CombinedInputSpace', dimensions=[dim_u1, dim_u2])\n",
    "\n",
    "# Output Spaces\n",
    "space_output_str = Space(name='OutputSpaceStr', dimensions=[Dimension('output_str', data_type=str)])\n",
    "space_output_float = Space(name='OutputSpaceFloat', dimensions=[Dimension('output_float')])\n",
    "space_output_bool = Space(name='OutputSpaceBool', dimensions=[Dimension('output_bool', data_type=bool)])"
   ]
  },
  {
   "cell_type": "markdown",
   "metadata": {},
   "source": [
    "Processing Functions:\n",
    "\n",
    "- Three processing functions are defined to perform specific transformations on the input data."
   ]
  },
  {
   "cell_type": "code",
   "execution_count": 14,
   "metadata": {},
   "outputs": [],
   "source": [
    "# Processing Functions\n",
    "def f_1_function(inputs):\n",
    "    u1 = inputs['u1']\n",
    "    u2 = inputs['u2']\n",
    "    return {'output_str': f\"Result: {u1}\" if u2 else \"Condition not met\"}\n",
    "\n",
    "def f_2_function(inputs):\n",
    "    u1 = inputs['u1']\n",
    "    u2 = inputs['u2']\n",
    "    return {'output_float': u1 * 2 if u2 else u1 / 2}\n",
    "\n",
    "def f_3_function(inputs):\n",
    "    u1 = inputs['u1']\n",
    "    u2 = inputs['u2']\n",
    "    return {'output_bool': u1 > 0 and u2}"
   ]
  },
  {
   "cell_type": "markdown",
   "metadata": {},
   "source": [
    "\n",
    "NonlinearTransforms:\n",
    "- The processing functions are wrapped in `NonlinearTransform` objects, which define the mapping between input and output spaces:"
   ]
  },
  {
   "cell_type": "code",
   "execution_count": 15,
   "metadata": {},
   "outputs": [],
   "source": [
    "# Transforms\n",
    "f_1_transform = NonlinearTransform(\n",
    "    name='f_1',\n",
    "    domain=space_combined_input,\n",
    "    codomain=space_output_str,\n",
    "    function=f_1_function\n",
    ")\n",
    "\n",
    "f_2_transform = NonlinearTransform(\n",
    "    name='f_2',\n",
    "    domain=space_combined_input,\n",
    "    codomain=space_output_float,\n",
    "    function=f_2_function\n",
    ")\n",
    "\n",
    "f_3_transform = NonlinearTransform(\n",
    "    name='f_3',\n",
    "    domain=space_combined_input,\n",
    "    codomain=space_output_bool,\n",
    "    function=f_3_function\n",
    ")\n"
   ]
  },
  {
   "cell_type": "markdown",
   "metadata": {},
   "source": [
    "`Block` objects are created for each transform, representing individual processing units:"
   ]
  },
  {
   "cell_type": "code",
   "execution_count": 16,
   "metadata": {},
   "outputs": [],
   "source": [
    "\n",
    "# Blocks\n",
    "f_1_block = Block(name='f_1_Block', transform=f_1_transform)\n",
    "f_2_block = Block(name='f_2_Block', transform=f_2_transform)\n",
    "f_3_block = Block(name='f_3_Block', transform=f_3_transform)"
   ]
  },
  {
   "cell_type": "markdown",
   "metadata": {},
   "source": [
    "\n",
    "A `CombinerBlock` is used to merge the outputs of individual blocks into a unified output space:"
   ]
  },
  {
   "cell_type": "code",
   "execution_count": 17,
   "metadata": {},
   "outputs": [],
   "source": [
    "# Combined Output Space\n",
    "space_combined_output = Space(name='CombinedOutputSpace', dimensions=[\n",
    "    Dimension('output_str', data_type=str),\n",
    "    Dimension('output_float'),\n",
    "    Dimension('output_bool', data_type=bool)\n",
    "])\n",
    "\n",
    "# Combiner Block\n",
    "combiner_block = CombinerBlock(\n",
    "    name='CombinerBlock',\n",
    "    input_spaces=[space_output_str, space_output_float, space_output_bool],\n",
    "    output_space=space_combined_output\n",
    ")"
   ]
  },
  {
   "cell_type": "markdown",
   "metadata": {},
   "source": [
    "\n",
    "A `CompositeBlock` named `system_block` is created to encapsulate the entire system, including internal blocks and their connections:"
   ]
  },
  {
   "cell_type": "code",
   "execution_count": null,
   "metadata": {},
   "outputs": [],
   "source": [
    "# Internal Blocks\n",
    "internal_blocks = [\n",
    "    f_1_block,\n",
    "    f_2_block,\n",
    "    f_3_block,\n",
    "    combiner_block\n",
    "]\n",
    "\n",
    "# Connections between blocks\n",
    "connections = [\n",
    "    (f_1_block, combiner_block),\n",
    "    (f_2_block, combiner_block),\n",
    "    (f_3_block, combiner_block)\n",
    "]\n",
    "\n",
    "# Input and Output Spaces for the CompositeBlock\n",
    "input_spaces = [space_combined_input]\n",
    "output_spaces = [space_combined_output]\n",
    "\n",
    "# Create the CompositeBlock\n",
    "system_block = CompositeBlock(\n",
    "    name='SystemBlock',\n",
    "    internal_blocks=internal_blocks,\n",
    "    connections=connections,\n",
    "    input_spaces=input_spaces,\n",
    "    output_spaces=output_spaces  # Corrected parameter name\n",
    ")\n"
   ]
  },
  {
   "cell_type": "markdown",
   "metadata": {},
   "source": [
    "A `Pipeline` object is created and the `system_block` is added to it:"
   ]
  },
  {
   "cell_type": "code",
   "execution_count": null,
   "metadata": {},
   "outputs": [],
   "source": [
    "# Main Pipeline\n",
    "main_pipeline = Pipeline()\n",
    "main_pipeline.add_block(system_block)\n"
   ]
  },
  {
   "cell_type": "markdown",
   "metadata": {},
   "source": [
    "Data Flow:\n",
    "\n",
    "- Input data is created as a `Point` object.\n",
    "- An initial `Flow` object is created with the input point.\n",
    "The pipeline is executed using the run method.\n",
    "The output is retrieved from the resulting flow.\n"
   ]
  },
  {
   "cell_type": "code",
   "execution_count": null,
   "metadata": {},
   "outputs": [],
   "source": [
    "\n",
    "# Provide input values\n",
    "input_values = {'u1': 5.0, 'u2': True}\n",
    "\n",
    "# Create Point for inputs\n",
    "combined_input_point = Point(space=space_combined_input, values=input_values)\n",
    "\n",
    "# Create Initial Flow\n",
    "initial_flow = Flow()\n",
    "initial_flow.add_point(space_combined_input.name, combined_input_point)\n",
    "\n",
    "# Run the Pipeline\n",
    "output_flow = main_pipeline.run(initial_flow)\n",
    "\n",
    "# Retrieve and print the Final Output\n",
    "combined_output_point = output_flow.get_point('CombinedOutputSpace')\n",
    "\n",
    "print(\"Input values:\")\n",
    "print(input_values)\n",
    "print(\"_\" * 20)\n",
    "print(\" \")\n",
    "\n",
    "print(\"Output values:\")\n",
    "print(combined_output_point.values)\n",
    "print(\"_\" * 20)\n",
    "print(\" \")\n"
   ]
  },
  {
   "cell_type": "markdown",
   "metadata": {},
   "source": [
    "Ouput:\n",
    "\n",
    "```txt\n",
    "Input values:\n",
    "{'u1': 5.0, 'u2': True}\n",
    "____________________\n",
    " \n",
    "Output values:\n",
    "{'output_str': 'Result: 5.0', 'output_float': 10.0, 'output_bool': True}\n",
    "____________________\n",
    "```\n",
    "\n",
    "The system implemented above can be mathematically represented as follows:\n",
    "\n",
    "\\begin{align*}\n",
    "\\text{Input: } & D = \\{u_1 \\in \\mathbb{R}, u_2 \\in \\{0,1\\}\\} \\\\[10pt]\n",
    "\\text{Transformations: } & \\\\\n",
    "& y_1 = f_1(u_1, u_2) \\in \\text{String} \\\\\n",
    "& y_2 = f_2(u_1, u_2) \\in \\mathbb{R} \\\\\n",
    "& y_3 = f_3(u_1, u_2) \\in \\{0,1\\} \\\\[10pt]\n",
    "\\text{Output: } & C = \\{y_1, y_2, y_3\\}\n",
    "\\end{align*}\n",
    "\n",
    "This mathematical representation directly corresponds to our implemented system:\n",
    "\n",
    "1. Input (D):\n",
    "   - u₁ is represented by 'u1' (a float)\n",
    "   - u₂ is represented by 'u2' (a boolean)\n",
    "\n",
    "2. Transformations:\n",
    "   - f₁ is implemented by f_1_function, producing a string output\n",
    "   - f₂ is implemented by f_2_function, producing a float output\n",
    "   - f₃ is implemented by f_3_function, producing a boolean output\n",
    "\n",
    "3. Output (C):\n",
    "   - The combined output {y₁, y₂, y₃} is represented by the 'CombinedOutputSpace'\n",
    "\n",
    "The system_block CompositeBlock encapsulates these transformations, \n",
    "and the Pipeline executes the entire process, demonstrating how the \n",
    "mathematical model is realized in our code implementation."
   ]
  }
 ],
 "metadata": {
  "kernelspec": {
   "display_name": "ox",
   "language": "python",
   "name": "python3"
  },
  "language_info": {
   "codemirror_mode": {
    "name": "ipython",
    "version": 3
   },
   "file_extension": ".py",
   "mimetype": "text/x-python",
   "name": "python",
   "nbconvert_exporter": "python",
   "pygments_lexer": "ipython3",
   "version": "3.12.7"
  }
 },
 "nbformat": 4,
 "nbformat_minor": 2
}
